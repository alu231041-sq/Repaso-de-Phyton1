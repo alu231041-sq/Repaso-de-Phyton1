{
  "nbformat": 4,
  "nbformat_minor": 0,
  "metadata": {
    "colab": {
      "provenance": [],
      "authorship_tag": "ABX9TyOwQwDzojSRPLgOJwJ3iWYj",
      "include_colab_link": true
    },
    "kernelspec": {
      "name": "python3",
      "display_name": "Python 3"
    },
    "language_info": {
      "name": "python"
    }
  },
  "cells": [
    {
      "cell_type": "markdown",
      "metadata": {
        "id": "view-in-github",
        "colab_type": "text"
      },
      "source": [
        "<a href=\"https://colab.research.google.com/github/alu231041-sq/Repaso-de-Phyton1/blob/main/DerekRA.ipynb\" target=\"_parent\"><img src=\"https://colab.research.google.com/assets/colab-badge.svg\" alt=\"Open In Colab\"/></a>"
      ]
    },
    {
      "cell_type": "code",
      "execution_count": null,
      "metadata": {
        "id": "DTSq2s81z-mj"
      },
      "outputs": [],
      "source": []
    },
    {
      "cell_type": "markdown",
      "source": [
        "Programa 1 en phyton para imprimir el hola mundo"
      ],
      "metadata": {
        "id": "tB5Ods-R0Qft"
      }
    },
    {
      "cell_type": "code",
      "source": [
        "print(\"Hola mundo\");\n",
        "nombre=(input(\"captura tu nombre\"))\n",
        "print(\"Hola \"+nombre)"
      ],
      "metadata": {
        "colab": {
          "base_uri": "https://localhost:8080/"
        },
        "id": "HoTNbFnC0KGl",
        "outputId": "9d33cdb6-c9fa-4faf-d7b2-8e384e747505"
      },
      "execution_count": 4,
      "outputs": [
        {
          "output_type": "stream",
          "name": "stdout",
          "text": [
            "Hola mundo\n",
            "captura tu nombreDerek\n",
            "HolaDerek\n"
          ]
        }
      ]
    },
    {
      "cell_type": "markdown",
      "source": [
        "Programa 2 capturar nombre, a paterno y materno e imprimirlo en pantalla\n"
      ],
      "metadata": {
        "id": "nNvT_eWa1Z3r"
      }
    },
    {
      "cell_type": "code",
      "source": [
        "print(\"Hola usuario\")\n",
        "nombre=(input(\"Escribe tu nombre: \"))\n",
        "ap=(input(\"Escribe tu apellido paterno: \"))\n",
        "am=(input(\"Escribe tu apellido materno: \"))\n",
        "print(\"Hola \"+nombre+\" \"+ap+\" \"+am )"
      ],
      "metadata": {
        "colab": {
          "base_uri": "https://localhost:8080/"
        },
        "id": "vEGlVGPG1kTT",
        "outputId": "ad54a062-e5aa-406b-8ef9-482d42e828cb"
      },
      "execution_count": 8,
      "outputs": [
        {
          "output_type": "stream",
          "name": "stdout",
          "text": [
            "Hola usuario\n",
            "Escribe tu nombre: Derek\n",
            "Escribe tu apellido paterno: Reyes\n",
            "Escribe tu apellido materno: Acosta\n",
            "Hola Derek Reyes Acosta\n"
          ]
        }
      ]
    }
  ]
}
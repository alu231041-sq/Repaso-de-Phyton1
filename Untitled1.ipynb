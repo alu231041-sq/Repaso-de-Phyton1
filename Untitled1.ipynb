{
  "nbformat": 4,
  "nbformat_minor": 0,
  "metadata": {
    "colab": {
      "provenance": [],
      "authorship_tag": "ABX9TyMAr0qwKoFWp+scwcCkNnQb",
      "include_colab_link": true
    },
    "kernelspec": {
      "name": "python3",
      "display_name": "Python 3"
    },
    "language_info": {
      "name": "python"
    }
  },
  "cells": [
    {
      "cell_type": "markdown",
      "metadata": {
        "id": "view-in-github",
        "colab_type": "text"
      },
      "source": [
        "<a href=\"https://colab.research.google.com/github/alu231041-sq/Repaso-de-Phyton1/blob/main/Untitled1.ipynb\" target=\"_parent\"><img src=\"https://colab.research.google.com/assets/colab-badge.svg\" alt=\"Open In Colab\"/></a>"
      ]
    },
    {
      "cell_type": "code",
      "execution_count": null,
      "metadata": {
        "id": "9Neevm-t8MfP"
      },
      "outputs": [],
      "source": []
    },
    {
      "cell_type": "markdown",
      "source": [
        "1.-Realizar un programa en phyton que permite capturar 2 numeros enteros e imprima la suma, la resta, multiplicacion y la divicion de ambos.\n",
        "\n",
        "2.-Realizar un programa en python mediante el cual calcules el total de caracteres que tiene un nombre capturado desde el teclado.\n",
        "\n",
        "3.-Realizar un programa en phyton que permita imprimir los 7 dias de la semana.\n"
      ],
      "metadata": {
        "id": "41HtrYzH8NLu"
      }
    },
    {
      "cell_type": "code",
      "source": [
        "n1=int(input(\"Ingrese el primer numero: \"))\n",
        "n2=int(input(\"Ingrese el segundo numero: \"))\n",
        "s=n1+n2;\n",
        "r=n1-n2;\n",
        "m=n1*n2;\n",
        "d=n1/n2;\n",
        "\n",
        "print(\"La suma es:\",s)\n",
        "print(\"La resta es:\",r)\n",
        "print(\"La multiplicacion es:\",m)\n",
        "print(\"La division es:\",d)"
      ],
      "metadata": {
        "colab": {
          "base_uri": "https://localhost:8080/"
        },
        "collapsed": true,
        "id": "VX4us_uj8PDl",
        "outputId": "dcacb917-9d45-48aa-8150-4e6103fd98cf"
      },
      "execution_count": 1,
      "outputs": [
        {
          "output_type": "stream",
          "name": "stdout",
          "text": [
            "Ingrese el primer numero: 10\n",
            "Ingrese el segundo numero: 10\n",
            "La suma es: 20\n",
            "La resta es: 0\n",
            "La multiplicacion es: 100\n",
            "La division es: 1.0\n"
          ]
        }
      ]
    },
    {
      "cell_type": "code",
      "source": [
        "nombre=input(\"Ingrese su nombre: \")\n",
        "print(\"Su nombre tiene\",len(nombre),\"caracteres\")"
      ],
      "metadata": {
        "colab": {
          "base_uri": "https://localhost:8080/"
        },
        "id": "Ah7yUoJI9Yaz",
        "outputId": "67948fe2-23d4-4e0e-abea-2b9f00b05442"
      },
      "execution_count": 4,
      "outputs": [
        {
          "output_type": "stream",
          "name": "stdout",
          "text": [
            "Ingrese su nombre: derek\n",
            "Su nombre tiene 5 caracteres\n"
          ]
        }
      ]
    },
    {
      "cell_type": "code",
      "source": [
        "dias=[\"Lunes\",\"Martes\",\"Miercoles\",\"Jueves\",\"Viernes\",\"Sabado\",\"Domingo\"]\n",
        "print(\"Los dias de la semana son: \")\n",
        "for dia in dias:\n",
        "  print(dia)"
      ],
      "metadata": {
        "colab": {
          "base_uri": "https://localhost:8080/"
        },
        "id": "1mJVOZ-9-WLa",
        "outputId": "7f908279-25d7-44d4-ced9-0607d3c77d1e"
      },
      "execution_count": 6,
      "outputs": [
        {
          "output_type": "stream",
          "name": "stdout",
          "text": [
            "Los dias de la semana son: \n",
            "Lunes\n",
            "Martes\n",
            "Miercoles\n",
            "Jueves\n",
            "Viernes\n",
            "Sabado\n",
            "Domingo\n"
          ]
        }
      ]
    }
  ]
}